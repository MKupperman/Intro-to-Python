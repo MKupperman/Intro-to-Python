{
  "nbformat": 4,
  "nbformat_minor": 0,
  "metadata": {
    "colab": {
      "name": "intro_to_python_full.ipynb",
      "provenance": [],
      "collapsed_sections": [],
      "toc_visible": true,
      "authorship_tag": "ABX9TyMF89yRtKx3jF3lqYX8naId",
      "include_colab_link": true
    },
    "kernelspec": {
      "name": "python3",
      "display_name": "Python 3"
    }
  },
  "cells": [
    {
      "cell_type": "markdown",
      "metadata": {
        "id": "view-in-github",
        "colab_type": "text"
      },
      "source": [
        "<a href=\"https://colab.research.google.com/github/MKupperman/Intro-to-Python/blob/master/intro_to_python_full.ipynb\" target=\"_parent\"><img src=\"https://colab.research.google.com/assets/colab-badge.svg\" alt=\"Open In Colab\"/></a>"
      ]
    },
    {
      "cell_type": "markdown",
      "metadata": {
        "id": "QcmpNUOAv3d7",
        "colab_type": "text"
      },
      "source": [
        "This is a notebook editor. You can enter code and compile it in chunks called cells. Cells can be either code or text. Text is compiled in markdown language and has limited $\\LaTeX$ support.\n",
        "\n",
        "Press ctrl+enter to evaluate a cell.\n",
        "\n",
        "Let's make a hello world statement:\n",
        "\n",
        "To add a comment to a line, use a # "
      ]
    },
    {
      "cell_type": "code",
      "metadata": {
        "id": "ZBxpUv3KukH4",
        "colab_type": "code",
        "colab": {
          "base_uri": "https://localhost:8080/",
          "height": 34
        },
        "outputId": "d5ecb691-b3a5-4552-c45e-d24fa61935c5"
      },
      "source": [
        "print('hello world')  # Prints 'hello world' w/o the '' marks"
      ],
      "execution_count": 6,
      "outputs": [
        {
          "output_type": "stream",
          "text": [
            "hello world\n"
          ],
          "name": "stdout"
        }
      ]
    },
    {
      "cell_type": "markdown",
      "metadata": {
        "id": "8Z8KJzTOvpOl",
        "colab_type": "text"
      },
      "source": [
        "Let's go over some basic ways to store numbers:\n",
        "* Python is weakly typed, so we don't have to tell python what type of data is going to be stored in each variable, it'll work that out for itself."
      ]
    },
    {
      "cell_type": "code",
      "metadata": {
        "id": "zZSnqKhKuuDU",
        "colab_type": "code",
        "colab": {}
      },
      "source": [
        "my_var = 1\n",
        "fish = 'my fish is purple'\n",
        "purple = 0.1"
      ],
      "execution_count": 0,
      "outputs": []
    },
    {
      "cell_type": "markdown",
      "metadata": {
        "id": "f2-ZEeBMWv1T",
        "colab_type": "text"
      },
      "source": [
        "We can try division, python defines 2 types of division:\n",
        "* Floor division // returns the integer part\n",
        "* Precise division / returns a decimal (float)"
      ]
    },
    {
      "cell_type": "code",
      "metadata": {
        "id": "GIFKg3QBW7_9",
        "colab_type": "code",
        "outputId": "27f8d5f0-6859-4a3e-ede1-e63d9fbee6b6",
        "colab": {
          "base_uri": "https://localhost:8080/",
          "height": 50
        }
      },
      "source": [
        "print(5 // 3)\n",
        "print(5 / 3)"
      ],
      "execution_count": 8,
      "outputs": [
        {
          "output_type": "stream",
          "text": [
            "1\n",
            "1.6666666666666667\n"
          ],
          "name": "stdout"
        }
      ]
    },
    {
      "cell_type": "markdown",
      "metadata": {
        "id": "591XOOQyXJNZ",
        "colab_type": "text"
      },
      "source": [
        "Addition, substraction, multiplication, and powers work the 'usual' way"
      ]
    },
    {
      "cell_type": "code",
      "metadata": {
        "id": "JWpgAuQ_XavQ",
        "colab_type": "code",
        "outputId": "27e0efdf-6dc5-4850-b412-c22cd8c7c9c9",
        "colab": {
          "base_uri": "https://localhost:8080/",
          "height": 84
        }
      },
      "source": [
        "x = 3\n",
        "y = 2.5\n",
        "print(x + y)  # Addition\n",
        "print(x - y)  # Subtraction\n",
        "print(x * y)  # product\n",
        "print(x ** y) # powers"
      ],
      "execution_count": 9,
      "outputs": [
        {
          "output_type": "stream",
          "text": [
            "5.5\n",
            "0.5\n",
            "7.5\n",
            "15.588457268119896\n"
          ],
          "name": "stdout"
        }
      ]
    },
    {
      "cell_type": "markdown",
      "metadata": {
        "id": "mBhmUfw1cvFf",
        "colab_type": "text"
      },
      "source": [
        "# For loops! \n",
        "\n",
        "To build a for loop in Python3, you need a type of object called an iterable.\n",
        "\n",
        "An interable is an object that has what's called an iter method. We'll look at a simple example of an iter object: range\n"
      ]
    },
    {
      "cell_type": "code",
      "metadata": {
        "id": "Ho38swicdr-S",
        "colab_type": "code",
        "outputId": "fc0b3b89-a688-408a-ee04-b37f84cbe9b1",
        "colab": {
          "base_uri": "https://localhost:8080/",
          "height": 218
        }
      },
      "source": [
        "for x in range(12):\n",
        "  print(x)\n",
        "  "
      ],
      "execution_count": 10,
      "outputs": [
        {
          "output_type": "stream",
          "text": [
            "0\n",
            "1\n",
            "2\n",
            "3\n",
            "4\n",
            "5\n",
            "6\n",
            "7\n",
            "8\n",
            "9\n",
            "10\n",
            "11\n"
          ],
          "name": "stdout"
        }
      ]
    },
    {
      "cell_type": "markdown",
      "metadata": {
        "id": "EOy-MR7HeBxO",
        "colab_type": "text"
      },
      "source": [
        "Iterables are like containers (if you're coming from C/C++/matlab/...), but not necessarily. These are objects with an 'iter method'."
      ]
    },
    {
      "cell_type": "markdown",
      "metadata": {
        "id": "2cxB4tdaYlU5",
        "colab_type": "text"
      },
      "source": [
        "Now let's look at ways to mainipulate data with a data structure. We'll look at lists and dictionaries. Lists are lists of data.\n",
        "\n",
        "Both lists and dictionaries support heterogeneous data types, so you can put anything in it"
      ]
    },
    {
      "cell_type": "code",
      "metadata": {
        "id": "SicWENo9u2c3",
        "colab_type": "code",
        "outputId": "8a0bfed2-c669-4813-a86d-2b97da353fb3",
        "colab": {
          "base_uri": "https://localhost:8080/",
          "height": 101
        }
      },
      "source": [
        "x = []  # Declare a list with no elements\n",
        "x.append(3)  # Add the value 3 to the list\n",
        "print(x)  # Print the list\n",
        "x.append('tomato')\n",
        "print(x)\n",
        "# Let's get something from the list\n",
        "# Python (like almost every programming language is 0 based)\n",
        "print(x[0] + 1) # We can put math inside the print statement\n",
        "# Print the entire list:\n",
        "print(x[:])\n",
        "# Get the last term in a list:\n",
        "print(x[-1])"
      ],
      "execution_count": 11,
      "outputs": [
        {
          "output_type": "stream",
          "text": [
            "[3]\n",
            "[3, 'tomato']\n",
            "4\n",
            "[3, 'tomato']\n",
            "tomato\n"
          ],
          "name": "stdout"
        }
      ]
    },
    {
      "cell_type": "markdown",
      "metadata": {
        "id": "ABdgDrHbZl-M",
        "colab_type": "text"
      },
      "source": [
        "You can even nest lists recursively\n"
      ]
    },
    {
      "cell_type": "code",
      "metadata": {
        "id": "Rk9mOTvGZpKn",
        "colab_type": "code",
        "outputId": "108ec970-f2b9-4d06-fcfe-71a7dd56d548",
        "colab": {
          "base_uri": "https://localhost:8080/",
          "height": 50
        }
      },
      "source": [
        "mid_list = list()  # another way to declare a list\n",
        "mid_list.append(33)\n",
        "mid_list.append('potato')\n",
        "print(mid_list)\n",
        "x.append(mid_list)\n",
        "print(x)"
      ],
      "execution_count": 12,
      "outputs": [
        {
          "output_type": "stream",
          "text": [
            "[33, 'potato']\n",
            "[3, 'tomato', [33, 'potato']]\n"
          ],
          "name": "stdout"
        }
      ]
    },
    {
      "cell_type": "markdown",
      "metadata": {
        "id": "apQEuT4UfHQa",
        "colab_type": "text"
      },
      "source": [
        "Let's make a list of values 2 ways"
      ]
    },
    {
      "cell_type": "code",
      "metadata": {
        "id": "bhnBjiXZvQ4d",
        "colab_type": "code",
        "colab": {
          "base_uri": "https://localhost:8080/",
          "height": 34
        },
        "outputId": "d1544684-d12a-454e-a5bb-4c0d958fb162"
      },
      "source": [
        "x = []\n",
        "for y in range(12):\n",
        "  x.append(y)\n",
        "print(x)"
      ],
      "execution_count": 13,
      "outputs": [
        {
          "output_type": "stream",
          "text": [
            "[0, 1, 2, 3, 4, 5, 6, 7, 8, 9, 10, 11]\n"
          ],
          "name": "stdout"
        }
      ]
    },
    {
      "cell_type": "code",
      "metadata": {
        "id": "OTxM668BcO16",
        "colab_type": "code",
        "outputId": "14d97637-d592-413c-b0d1-af21a9bc7c46",
        "colab": {
          "base_uri": "https://localhost:8080/",
          "height": 50
        }
      },
      "source": [
        "# To generate a list of numbers we can use list comprehension\n",
        "# which still uses a for loop\n",
        "num_list = [value for value in range(12)] \n",
        "print(num_list)\n",
        "# We can use logic in the list as well:\n",
        "num_list = [value for value in range(12) if value % 2 == 0] \n",
        "print(num_list)\n"
      ],
      "execution_count": 14,
      "outputs": [
        {
          "output_type": "stream",
          "text": [
            "[0, 1, 2, 3, 4, 5, 6, 7, 8, 9, 10, 11]\n",
            "[0, 2, 4, 6, 8, 10]\n"
          ],
          "name": "stdout"
        }
      ]
    },
    {
      "cell_type": "code",
      "metadata": {
        "id": "IifaWA_xXAhq",
        "colab_type": "code",
        "outputId": "c760ed3f-c494-4e78-e3a3-12531b43186e",
        "colab": {
          "base_uri": "https://localhost:8080/",
          "height": 84
        }
      },
      "source": [
        "# Scoping:\n",
        "value = 1\n",
        "# To generate a list of numbers we can use list comprehension\n",
        "# which still uses a for loop\n",
        "num_list = [value for value in range(12)] \n",
        "print(num_list)\n",
        "# We can use logic in the list as well:\n",
        "num_list = [value for value in range(12) if value % 2 == 0] \n",
        "print(num_list)\n",
        "print(value)\n",
        "\n",
        "for value in range(12):\n",
        "  pass\n",
        "print(value)"
      ],
      "execution_count": 15,
      "outputs": [
        {
          "output_type": "stream",
          "text": [
            "[0, 1, 2, 3, 4, 5, 6, 7, 8, 9, 10, 11]\n",
            "[0, 2, 4, 6, 8, 10]\n",
            "1\n",
            "11\n"
          ],
          "name": "stdout"
        }
      ]
    },
    {
      "cell_type": "markdown",
      "metadata": {
        "id": "YmQ4vVYGaQNe",
        "colab_type": "text"
      },
      "source": [
        "# Dictionaries\n",
        "\n",
        "The math here is called a hash table. Dictionaries can store large amounts of data and do fast lookups, unlike with lists. Dictionaries don't store order, which you may or may not need, like storing a list of observations when parsing through a much bigger list."
      ]
    },
    {
      "cell_type": "code",
      "metadata": {
        "id": "0RtHVTROaOff",
        "colab_type": "code",
        "outputId": "2a26049d-2be2-41fe-e0b4-2f1b67401da5",
        "colab": {
          "base_uri": "https://localhost:8080/",
          "height": 34
        }
      },
      "source": [
        "x = {}  # Declare an empty dictionary\n",
        "x = {'key': 'value'}  # Example of basic structure of a dict pair\n",
        "x['hashable key'] = 23\n",
        "x[12] = 'new string'\n",
        "print(x)"
      ],
      "execution_count": 16,
      "outputs": [
        {
          "output_type": "stream",
          "text": [
            "{'key': 'value', 'hashable key': 23, 12: 'new string'}\n"
          ],
          "name": "stdout"
        }
      ]
    },
    {
      "cell_type": "markdown",
      "metadata": {
        "id": "1FRRnDBg3j3R",
        "colab_type": "text"
      },
      "source": [
        "## Dictionary comprehension\n",
        "\n",
        "Like lists, we can build dictionaries through comprehension. Comprehension is one of the most powerful aspects of the Python language because you can do a loop, logic, call functions, and store the results all in one line. "
      ]
    },
    {
      "cell_type": "code",
      "metadata": {
        "id": "AjA2Lbt93_rW",
        "colab_type": "code",
        "colab": {
          "base_uri": "https://localhost:8080/",
          "height": 34
        },
        "outputId": "e369e95c-614b-4422-c913-ff45bea64324"
      },
      "source": [
        "# We'll store the result of a calculation \n",
        "demo_dict = {i:10 // (i+1) for i in range(10)} \n",
        "print(demo_dict)\n"
      ],
      "execution_count": 17,
      "outputs": [
        {
          "output_type": "stream",
          "text": [
            "{0: 10, 1: 5, 2: 3, 3: 2, 4: 2, 5: 1, 6: 1, 7: 1, 8: 1, 9: 1}\n"
          ],
          "name": "stdout"
        }
      ]
    },
    {
      "cell_type": "markdown",
      "metadata": {
        "id": "Lyk5hQU2fYuU",
        "colab_type": "text"
      },
      "source": [
        "# Control statements\n",
        "\n",
        "Python uses True, False, is, and not for logical statements.\n",
        "\n",
        "Python has 3 basic control statements:\n",
        "* if \n",
        "* elif (elif is a combined if-else statement)\n",
        "* else\n"
      ]
    },
    {
      "cell_type": "code",
      "metadata": {
        "id": "UYCykaeMfXy2",
        "colab_type": "code",
        "outputId": "0588e794-609c-4d09-a973-f3f9d939ddc8",
        "colab": {
          "base_uri": "https://localhost:8080/",
          "height": 34
        }
      },
      "source": [
        "x = 1\n",
        "y = 'my_string'\n",
        "\n",
        "if x is 1: # if cond is true, then:\n",
        "  print('x is one')\n",
        "elif x is not y:  #else if Test for equality\n",
        "  print('x is y')\n",
        "elif False:\n",
        "  print('lol')\n",
        "else:\n",
        "  print('x is not 1 and x is y')\n"
      ],
      "execution_count": 18,
      "outputs": [
        {
          "output_type": "stream",
          "text": [
            "x is one\n"
          ],
          "name": "stdout"
        }
      ]
    },
    {
      "cell_type": "markdown",
      "metadata": {
        "id": "vWCLi38c2pX_",
        "colab_type": "text"
      },
      "source": [
        "## List comprehension revisited\n",
        "If we need to add an else to a list generated with list comprehension, the syntax needs to change slightly. We move the control statement (if-elif else) to the front, before the **for-in** statement.   "
      ]
    },
    {
      "cell_type": "code",
      "metadata": {
        "id": "yOrF5_Ce25qc",
        "colab_type": "code",
        "colab": {
          "base_uri": "https://localhost:8080/",
          "height": 50
        },
        "outputId": "935313a3-4955-4921-94f3-e34efd7abd35"
      },
      "source": [
        "# squares of odd numbers\n",
        "x = [val **2  for val in range(7) if val % 2 is not 0] \n",
        "print(x)\n",
        "# square if it's odd, otherwise store a 0\n",
        "x = [val **2 if val % 2 is not 0 else 0 for val in range(7)] \n",
        "print(x)"
      ],
      "execution_count": 19,
      "outputs": [
        {
          "output_type": "stream",
          "text": [
            "[1, 9, 25]\n",
            "[0, 1, 0, 9, 0, 25, 0]\n"
          ],
          "name": "stdout"
        }
      ]
    },
    {
      "cell_type": "code",
      "metadata": {
        "id": "gr6p_ftr3a54",
        "colab_type": "code",
        "colab": {}
      },
      "source": [
        ""
      ],
      "execution_count": 0,
      "outputs": []
    },
    {
      "cell_type": "markdown",
      "metadata": {
        "id": "XxiqNKg7gsrT",
        "colab_type": "text"
      },
      "source": [
        "# Functions"
      ]
    },
    {
      "cell_type": "code",
      "metadata": {
        "id": "S1OW-4D6guWY",
        "colab_type": "code",
        "colab": {}
      },
      "source": [
        "def add2(x, y):\n",
        "  \"\"\"\n",
        "  This is called a docstring, it provides all documentation for your function.\n",
        "\n",
        "  Thus function adds together it's 2 arguments and returns one value.\n",
        "  \n",
        "  >>> add2(2,3)\n",
        "  5\n",
        "  \"\"\"\n",
        "  return x + y\n"
      ],
      "execution_count": 0,
      "outputs": []
    },
    {
      "cell_type": "code",
      "metadata": {
        "id": "lxM7LCvbg3wz",
        "colab_type": "code",
        "outputId": "03ff4ecc-793d-4bd8-cbac-e750cf28be3b",
        "colab": {
          "base_uri": "https://localhost:8080/",
          "height": 286
        }
      },
      "source": [
        "print(add2.__doc__)\n",
        "# Some function have more complicated docstrings\n",
        "print(range.__doc__)"
      ],
      "execution_count": 21,
      "outputs": [
        {
          "output_type": "stream",
          "text": [
            "\n",
            "  This is called a docstring, it provides all documentation for your function.\n",
            "\n",
            "  Thus function adds together it's 2 arguments and returns one value.\n",
            "  \n",
            "  >>> add2(2,3)\n",
            "  5\n",
            "  \n",
            "range(stop) -> range object\n",
            "range(start, stop[, step]) -> range object\n",
            "\n",
            "Return an object that produces a sequence of integers from start (inclusive)\n",
            "to stop (exclusive) by step.  range(i, j) produces i, i+1, i+2, ..., j-1.\n",
            "start defaults to 0, and stop is omitted!  range(4) produces 0, 1, 2, 3.\n",
            "These are exactly the valid indices for a list of 4 elements.\n",
            "When step is given, it specifies the increment (or decrement).\n"
          ],
          "name": "stdout"
        }
      ]
    },
    {
      "cell_type": "code",
      "metadata": {
        "id": "vg8xk7CTg7iS",
        "colab_type": "code",
        "outputId": "e9884a43-49e7-4b7b-f9f5-8c6ece92038c",
        "colab": {
          "base_uri": "https://localhost:8080/",
          "height": 34
        }
      },
      "source": [
        "add2(2,5)"
      ],
      "execution_count": 22,
      "outputs": [
        {
          "output_type": "execute_result",
          "data": {
            "text/plain": [
              "7"
            ]
          },
          "metadata": {
            "tags": []
          },
          "execution_count": 22
        }
      ]
    },
    {
      "cell_type": "code",
      "metadata": {
        "id": "SoMVYu3EhJhZ",
        "colab_type": "code",
        "outputId": "3691ba5e-9669-4e72-f222-2667e91ac0a6",
        "colab": {
          "base_uri": "https://localhost:8080/",
          "height": 50
        }
      },
      "source": [
        "print(add2(x=2, y=5))\n",
        "print(add2(y=5, x=2))"
      ],
      "execution_count": 23,
      "outputs": [
        {
          "output_type": "stream",
          "text": [
            "7\n",
            "7\n"
          ],
          "name": "stdout"
        }
      ]
    },
    {
      "cell_type": "code",
      "metadata": {
        "id": "HfdbxFWchNQP",
        "colab_type": "code",
        "outputId": "b82a698a-3a3d-4727-a921-9b6a15767c1a",
        "colab": {
          "base_uri": "https://localhost:8080/",
          "height": 34
        }
      },
      "source": [
        "x = 2\n",
        "y = 5\n",
        "add2(x=x, y=y)"
      ],
      "execution_count": 24,
      "outputs": [
        {
          "output_type": "execute_result",
          "data": {
            "text/plain": [
              "7"
            ]
          },
          "metadata": {
            "tags": []
          },
          "execution_count": 24
        }
      ]
    },
    {
      "cell_type": "code",
      "metadata": {
        "id": "KKu-oB_gj7ut",
        "colab_type": "code",
        "colab": {}
      },
      "source": [
        ""
      ],
      "execution_count": 0,
      "outputs": []
    },
    {
      "cell_type": "markdown",
      "metadata": {
        "id": "RlHRghVCkDdC",
        "colab_type": "text"
      },
      "source": [
        "# Example\n",
        "\n",
        "Let's look at a real example: Newton's method rootfinding (MTH 351)\n",
        "\n",
        "Newton's method implements the following iteration scheme:\n",
        "\n",
        "$x_{n+1} = x_n - \\frac{f(x_n)}{f'(x_n)}$\n",
        "\n",
        "Let's let $f(x) = sin(x)$, then $f'(x) = cos(x)$\n",
        "\n",
        "We'll use the numerical python library numpy, num(erical)py(thon)"
      ]
    },
    {
      "cell_type": "code",
      "metadata": {
        "id": "Qtc3UzFAlO2W",
        "colab_type": "code",
        "colab": {}
      },
      "source": [
        "import numpy"
      ],
      "execution_count": 0,
      "outputs": []
    },
    {
      "cell_type": "markdown",
      "metadata": {
        "id": "vIFZLYrMmban",
        "colab_type": "text"
      },
      "source": [
        "We'll access functions from the library through dot indexing: \n",
        "\n",
        "package.function_name()"
      ]
    },
    {
      "cell_type": "code",
      "metadata": {
        "id": "XkREEmkIkVvB",
        "colab_type": "code",
        "colab": {}
      },
      "source": [
        "def newton_method_step(x0):\n",
        "  \"\"\"\n",
        "  Returns the next step in newton's method.\n",
        "  \"\"\"\n",
        "  f_xn = numpy.sin(x0)  # f(x_n)\n",
        "  fprime = numpy.cos(x0)  # f'(x_n) \n",
        "  x_new = x0 - f_xn / fprime\n",
        "  return x_new"
      ],
      "execution_count": 0,
      "outputs": []
    },
    {
      "cell_type": "code",
      "metadata": {
        "id": "pAHO3rCsmlP5",
        "colab_type": "code",
        "outputId": "69f810ce-85e5-488e-a703-801ed60d515b",
        "colab": {
          "base_uri": "https://localhost:8080/",
          "height": 50
        }
      },
      "source": [
        "# Let's test it\n",
        "print(newton_method_step(0))  # Should return 0\n",
        "print(newton_method_step(0.5))  # Should not return 0"
      ],
      "execution_count": 27,
      "outputs": [
        {
          "output_type": "stream",
          "text": [
            "0.0\n",
            "-0.046302489843790484\n"
          ],
          "name": "stdout"
        }
      ]
    },
    {
      "cell_type": "code",
      "metadata": {
        "id": "WpyG3HWCmyaj",
        "colab_type": "code",
        "outputId": "ab2b7ffc-33ec-4384-f03b-f10618308933",
        "colab": {
          "base_uri": "https://localhost:8080/",
          "height": 54
        }
      },
      "source": [
        "# Now let's run out our algorithm:\n",
        "x0 = 0.9\n",
        "approximations = [x0]  # Make a list with 1 value\n",
        "for _ in range(20):  # how many steps do you want to run?\n",
        "  approximations.append(newton_method_step(approximations[-1]))\n",
        "  # get the last approximation\n",
        "  # Compute the next step\n",
        "  # Append to list\n",
        "print(approximations)"
      ],
      "execution_count": 28,
      "outputs": [
        {
          "output_type": "stream",
          "text": [
            "[0.9, -0.3601582175503394, 0.016425278522749276, -1.4772834857866568e-06, 1.0748848100657071e-18, 0.0, 0.0, 0.0, 0.0, 0.0, 0.0, 0.0, 0.0, 0.0, 0.0, 0.0, 0.0, 0.0, 0.0, 0.0, 0.0]\n"
          ],
          "name": "stdout"
        }
      ]
    },
    {
      "cell_type": "code",
      "metadata": {
        "id": "BhSdHcafoa8D",
        "colab_type": "code",
        "outputId": "b58a0f07-1d4f-4fc0-a580-70d097b71ec6",
        "colab": {
          "base_uri": "https://localhost:8080/",
          "height": 295
        }
      },
      "source": [
        "# Let's visualize our results\n",
        "import matplotlib.pyplot as plt  # Matlab style plotting package standard in\n",
        "# scientific computing\n",
        "\n",
        "plt.scatter(x=approximations, y=numpy.sin(approximations))\n",
        "# plt.show() # Let's see what we got\n",
        "x_vals = numpy.linspace(-numpy.pi, numpy.pi, 314)\n",
        "y_vals = numpy.sin(x_vals)\n",
        "plt.plot(x_vals, y_vals)  # Let's add the 'true' curve\n",
        "plt.xlabel('my x label')\n",
        "plt.ylabel('my cool y label')\n",
        "plt.title('Math Club made a plot!')\n",
        "plt.show()  # show the figure below\n",
        "# plt.savefig('my_fig.png') uncomment to save the figure locally"
      ],
      "execution_count": 29,
      "outputs": [
        {
          "output_type": "display_data",
          "data": {
            "image/png": "[encoded data removed]",
            "text/plain": [
              "<Figure size 432x288 with 1 Axes>"
            ]
          },
          "metadata": {
            "tags": [],
            "needs_background": "light"
          }
        }
      ]
    },
    {
      "cell_type": "markdown",
      "metadata": {
        "id": "OFDoYWDUt7w4",
        "colab_type": "text"
      },
      "source": [
        "#Exercises\n",
        "Some begining programming exercises with python:\n",
        "\n",
        "1. Sequences.\n",
        "  * Lookup the documentation for the range function. Make a list of the numbers 2,3,4,5,6 with a for loop.\n",
        "  * Create the same sequnce with the numpy linspace command. Don't use a for loop\n",
        "2. Use list comprehension to generate a new list of squares of the numbers you created in 1 (try with both methods). The power function in numpy may be helpful.\n",
        "\n",
        "3. Append 0 and -1 to the list. Then use the sort method to order them. Try this with `reverse=True`.\n",
        "\n",
        "4. Scatter plot the data using the initial list as `x` and the new list as `y`. \n",
        "\n",
        "5. Plot the square function `(x ** 2)`  on the same graph from 0 to 7.\n",
        "\n",
        "6. Save the resulting image to a png file. \n",
        "\n",
        "\n"
      ]
    }
  ]
}